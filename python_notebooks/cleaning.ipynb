{
 "cells": [
  {
   "cell_type": "code",
   "execution_count": 134,
   "id": "827cf106-efa3-478d-bd16-099f77da908f",
   "metadata": {},
   "outputs": [],
   "source": [
    "from dotenv import load_dotenv\n",
    "import os\n",
    "import pandas as pd\n",
    "from datetime import datetime"
   ]
  },
  {
   "cell_type": "code",
   "execution_count": 135,
   "id": "2c44dff5-df7c-4ff4-8011-44bf6d04f448",
   "metadata": {},
   "outputs": [
    {
     "name": "stdout",
     "output_type": "stream",
     "text": [
      "RAW_DATA_PATH loaded successfully!\n"
     ]
    }
   ],
   "source": [
    "load_dotenv()\n",
    "\n",
    "raw_data_path = os.getenv('RAW_DATA_PATH')\n",
    "\n",
    "# Checks to see that the CSV is properly loaded and ready to go into a dataframe\n",
    "\n",
    "if raw_data_path is None:\n",
    "    print(\"Error: RAW_DATA_PATH not found in .env file.\")\n",
    "else:\n",
    "    print(f\"RAW_DATA_PATH loaded successfully!\")"
   ]
  },
  {
   "cell_type": "code",
   "execution_count": 136,
   "id": "17e8530d-c6d9-46b9-8fff-9db8e4a03f38",
   "metadata": {},
   "outputs": [],
   "source": [
    "df = pd.read_csv(raw_data_path)"
   ]
  },
  {
   "cell_type": "code",
   "execution_count": 137,
   "id": "61f27557-297b-451e-b54f-6e34b6c0c20f",
   "metadata": {},
   "outputs": [
    {
     "name": "stdout",
     "output_type": "stream",
     "text": [
      "<class 'pandas.core.frame.DataFrame'>\n",
      "RangeIndex: 78273 entries, 0 to 78272\n",
      "Data columns (total 17 columns):\n",
      " #   Column                                    Non-Null Count  Dtype  \n",
      "---  ------                                    --------------  -----  \n",
      " 0   Carrier Code                              78272 non-null  object \n",
      " 1   Date (MM/DD/YYYY)                         78271 non-null  object \n",
      " 2   Flight Number                             78271 non-null  float64\n",
      " 3   Tail Number                               78271 non-null  object \n",
      " 4   Destination Airport                       78271 non-null  object \n",
      " 5   Scheduled departure time                  78271 non-null  object \n",
      " 6   Actual departure time                     78271 non-null  object \n",
      " 7   Scheduled elapsed time (Minutes)          78271 non-null  float64\n",
      " 8   Actual elapsed time (Minutes)             78271 non-null  float64\n",
      " 9   Departure delay (Minutes)                 78271 non-null  float64\n",
      " 10  Wheels-off time                           78271 non-null  object \n",
      " 11  Taxi-Out time (Minutes)                   78271 non-null  float64\n",
      " 12  Delay Carrier (Minutes)                   78271 non-null  float64\n",
      " 13  Delay Weather (Minutes)                   78271 non-null  float64\n",
      " 14  Delay National Aviation System (Minutes)  78271 non-null  float64\n",
      " 15  Delay Security (Minutes)                  78271 non-null  float64\n",
      " 16  Delay Late Aircraft Arrival (Minutes)     78271 non-null  float64\n",
      "dtypes: float64(10), object(7)\n",
      "memory usage: 10.2+ MB\n",
      "None\n"
     ]
    }
   ],
   "source": [
    "print(df.info())"
   ]
  },
  {
   "cell_type": "code",
   "execution_count": 138,
   "id": "f53c6218-ab39-4141-9e56-a5224f4e0d2a",
   "metadata": {},
   "outputs": [
    {
     "name": "stdout",
     "output_type": "stream",
     "text": [
      "<class 'pandas.core.frame.DataFrame'>\n",
      "RangeIndex: 78271 entries, 0 to 78270\n",
      "Data columns (total 16 columns):\n",
      " #   Column                          Non-Null Count  Dtype  \n",
      "---  ------                          --------------  -----  \n",
      " 0   date                            78271 non-null  object \n",
      " 1   flight_number                   78271 non-null  float64\n",
      " 2   tail_number                     78271 non-null  object \n",
      " 3   destination_airport             78271 non-null  object \n",
      " 4   scheduled_departure_time        78271 non-null  object \n",
      " 5   actual_departure_time           78271 non-null  object \n",
      " 6   scheduled_elapsed_time          78271 non-null  float64\n",
      " 7   actual_elapsed_time             78271 non-null  float64\n",
      " 8   departure_delay                 78271 non-null  float64\n",
      " 9   wheels_off_time                 78271 non-null  object \n",
      " 10  taxi_out_time                   78271 non-null  float64\n",
      " 11  delay_carrier                   78271 non-null  float64\n",
      " 12  delay_weather                   78271 non-null  float64\n",
      " 13  delay_national_aviation_system  78271 non-null  float64\n",
      " 14  delay_security                  78271 non-null  float64\n",
      " 15  delay_late_aircraft_arrival     78271 non-null  float64\n",
      "dtypes: float64(10), object(6)\n",
      "memory usage: 9.6+ MB\n",
      "None\n"
     ]
    }
   ],
   "source": [
    "# Drop carrier code column and last 2 rows\n",
    "df = df.drop(df.columns[0], axis=1)\n",
    "df = df.iloc[:-2]\n",
    "\n",
    "# Convert column names to snake case, remove text in parentheses, replace hyphens with underscores\n",
    "df.columns = df.columns.str.replace(r'\\s*\\(.*?\\)\\s*', '', regex=True)\n",
    "df.columns = df.columns.str.replace(' ', '_').str.lower()\n",
    "df.columns = df.columns.str.replace('-', '_')\n",
    "\n",
    "# Replace problematic midnight times with 00:00, which datetime recognizes better\n",
    "df['scheduled_departure_time'] = df['scheduled_departure_time'].replace('24:00', '00:00')\n",
    "df['actual_departure_time'] = df['actual_departure_time'].replace('24:00', '00:00')\n",
    "df['wheels_off_time'] = df['wheels_off_time'].replace('24:00', '00:00')\n",
    "\n",
    "print(df.info())"
   ]
  },
  {
   "cell_type": "code",
   "execution_count": 139,
   "id": "e1a02f4a-120f-4078-80e4-6b21f7fde7e4",
   "metadata": {},
   "outputs": [
    {
     "name": "stdout",
     "output_type": "stream",
     "text": [
      "date                              datetime64[ns]\n",
      "flight_number                     string[python]\n",
      "tail_number                       string[python]\n",
      "destination_airport               string[python]\n",
      "scheduled_departure_time          datetime64[ns]\n",
      "actual_departure_time             datetime64[ns]\n",
      "scheduled_elapsed_time                   float64\n",
      "actual_elapsed_time                      float64\n",
      "departure_delay                          float64\n",
      "wheels_off_time                   datetime64[ns]\n",
      "taxi_out_time                            float64\n",
      "delay_carrier                            float64\n",
      "delay_weather                            float64\n",
      "delay_national_aviation_system           float64\n",
      "delay_security                           float64\n",
      "delay_late_aircraft_arrival              float64\n",
      "dtype: object\n",
      "None\n"
     ]
    }
   ],
   "source": [
    "# Strip time columns\n",
    "df['scheduled_departure_time'] = df['scheduled_departure_time'].str.strip()\n",
    "df['actual_departure_time'] = df['actual_departure_time'].str.strip()\n",
    "df['wheels_off_time'] = df['wheels_off_time'].str.strip()\n",
    "\n",
    "# Convert string and datetime columns to correct data type\n",
    "df['flight_number'] = df['flight_number'].astype('string')\n",
    "df['tail_number'] = df['tail_number'].astype('string')\n",
    "df['destination_airport'] = df['destination_airport'].astype('string')\n",
    "\n",
    "df['date'] = pd.to_datetime(df['date'], format='%m/%d/%Y', errors='coerce')\n",
    "\n",
    "df['scheduled_departure_time'] = pd.to_datetime(df['scheduled_departure_time'], format='%H:%M', errors='coerce')\n",
    "df['actual_departure_time'] = pd.to_datetime(df['actual_departure_time'], format='%H:%M', errors='coerce')\n",
    "df['wheels_off_time'] = pd.to_datetime(df['wheels_off_time'], format='%H:%M', errors='coerce')\n",
    "\n",
    "print(print(df.dtypes))"
   ]
  },
  {
   "cell_type": "code",
   "execution_count": 140,
   "id": "02942680-b841-4e23-bd27-51ade1e2dc49",
   "metadata": {},
   "outputs": [
    {
     "name": "stdout",
     "output_type": "stream",
     "text": [
      "Converted columns to integers: ['scheduled_elapsed_time', 'actual_elapsed_time', 'departure_delay', 'taxi_out_time', 'delay_carrier', 'delay_weather', 'delay_national_aviation_system', 'delay_security', 'delay_late_aircraft_arrival']\n",
      "<class 'pandas.core.frame.DataFrame'>\n",
      "RangeIndex: 78271 entries, 0 to 78270\n",
      "Data columns (total 16 columns):\n",
      " #   Column                          Non-Null Count  Dtype         \n",
      "---  ------                          --------------  -----         \n",
      " 0   date                            78271 non-null  datetime64[ns]\n",
      " 1   flight_number                   78271 non-null  string        \n",
      " 2   tail_number                     78271 non-null  string        \n",
      " 3   destination_airport             78271 non-null  string        \n",
      " 4   scheduled_departure_time        78271 non-null  datetime64[ns]\n",
      " 5   actual_departure_time           78271 non-null  datetime64[ns]\n",
      " 6   scheduled_elapsed_time          78271 non-null  Int64         \n",
      " 7   actual_elapsed_time             78271 non-null  Int64         \n",
      " 8   departure_delay                 78271 non-null  Int64         \n",
      " 9   wheels_off_time                 78271 non-null  datetime64[ns]\n",
      " 10  taxi_out_time                   78271 non-null  Int64         \n",
      " 11  delay_carrier                   78271 non-null  Int64         \n",
      " 12  delay_weather                   78271 non-null  Int64         \n",
      " 13  delay_national_aviation_system  78271 non-null  Int64         \n",
      " 14  delay_security                  78271 non-null  Int64         \n",
      " 15  delay_late_aircraft_arrival     78271 non-null  Int64         \n",
      "dtypes: Int64(9), datetime64[ns](4), string(3)\n",
      "memory usage: 10.2 MB\n",
      "None\n"
     ]
    }
   ],
   "source": [
    "# Identify columns currently listed as floats\n",
    "float_columns = df.select_dtypes(include='float64').columns\n",
    "\n",
    "# Function to check if a column can be converted to integers\n",
    "def can_convert_to_int(column):\n",
    "    return (column == column.astype('Int64')).all()\n",
    "\n",
    "# List of columns that can be converted to integers\n",
    "int_convertible_columns = [col for col in float_columns if can_convert_to_int(df[col])]\n",
    "\n",
    "# Loop through and convert the columns to integers\n",
    "for col in int_convertible_columns:\n",
    "    df[col] = df[col].astype('Int64') # Will raise an error if NaN/None pops up\n",
    "\n",
    "print(f\"Converted columns to integers: {int_convertible_columns}\")\n",
    "\n",
    "print(df.info())"
   ]
  }
 ],
 "metadata": {
  "kernelspec": {
   "display_name": "Python (venv)",
   "language": "python",
   "name": "venv"
  },
  "language_info": {
   "codemirror_mode": {
    "name": "ipython",
    "version": 3
   },
   "file_extension": ".py",
   "mimetype": "text/x-python",
   "name": "python",
   "nbconvert_exporter": "python",
   "pygments_lexer": "ipython3",
   "version": "3.13.1"
  }
 },
 "nbformat": 4,
 "nbformat_minor": 5
}
