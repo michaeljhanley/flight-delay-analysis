{
 "cells": [
  {
   "cell_type": "code",
   "execution_count": 1,
   "id": "638369c1-6cc4-487a-b42a-3878ea66b881",
   "metadata": {},
   "outputs": [
    {
     "name": "stdout",
     "output_type": "stream",
     "text": [
      "Error: RAW_DATA_PATH not found in .env file.\n"
     ]
    }
   ],
   "source": [
    "from dotenv import load_dotenv\n",
    "import os\n",
    "\n",
    "# Load environment variables from the .env file\n",
    "load_dotenv()\n",
    "\n",
    "# Access the environment variable\n",
    "raw_data_path = os.getenv('RAW_DATA_PATH')\n",
    "\n",
    "if raw_data_path is None:\n",
    "    print(\"Error: RAW_DATA_PATH not found in .env file.\")\n",
    "else:\n",
    "    print(f\"RAW_DATA_PATH loaded successfully! {raw_data_path}\")"
   ]
  },
  {
   "cell_type": "code",
   "execution_count": null,
   "id": "ddd11a7d-cf63-4d97-8a84-52cde7993954",
   "metadata": {},
   "outputs": [],
   "source": []
  },
  {
   "cell_type": "code",
   "execution_count": null,
   "id": "61f27557-297b-451e-b54f-6e34b6c0c20f",
   "metadata": {},
   "outputs": [],
   "source": []
  }
 ],
 "metadata": {
  "kernelspec": {
   "display_name": "Python (venv)",
   "language": "python",
   "name": "venv"
  },
  "language_info": {
   "codemirror_mode": {
    "name": "ipython",
    "version": 3
   },
   "file_extension": ".py",
   "mimetype": "text/x-python",
   "name": "python",
   "nbconvert_exporter": "python",
   "pygments_lexer": "ipython3",
   "version": "3.13.1"
  }
 },
 "nbformat": 4,
 "nbformat_minor": 5
}
